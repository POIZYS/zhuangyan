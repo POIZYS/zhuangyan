{
 "cells": [
  {
   "cell_type": "code",
   "execution_count": 1,
   "id": "b91253d2-d419-40fd-a12f-28e66e2f1e93",
   "metadata": {},
   "outputs": [
    {
     "name": "stdout",
     "output_type": "stream",
     "text": [
      "Looking in indexes: https://mirrors.aliyun.com/pypi/simple/\n",
      "Collecting zhipuai\n",
      "  Downloading https://mirrors.aliyun.com/pypi/packages/10/28/5c1efbfb560e64458b22e0442279af8bde673edcb096762a3aeccee3a8ec/zhipuai-2.1.5.20230904-py3-none-any.whl (104 kB)\n",
      "Collecting cachetools>=4.2.2 (from zhipuai)\n",
      "  Downloading https://mirrors.aliyun.com/pypi/packages/a4/07/14f8ad37f2d12a5ce41206c21820d8cb6561b728e51fad4530dff0552a67/cachetools-5.5.0-py3-none-any.whl (9.5 kB)\n",
      "Requirement already satisfied: httpx>=0.23.0 in c:\\users\\administrator\\appdata\\local\\programs\\python\\python312\\lib\\site-packages (from zhipuai) (0.27.2)\n",
      "Collecting pydantic<3.0,>=1.9.0 (from zhipuai)\n",
      "  Downloading https://mirrors.aliyun.com/pypi/packages/d5/74/da832196702d0c56eb86b75bfa346db9238617e29b0b7ee3b8b4eccfe654/pydantic-2.10.2-py3-none-any.whl (456 kB)\n",
      "Collecting pydantic-core>=2.14.6 (from zhipuai)\n",
      "  Downloading https://mirrors.aliyun.com/pypi/packages/ee/f2/c61486eee27cae5ac781305658779b4a6b45f9cc9d02c90cb21b940e82cc/pydantic_core-2.27.1-cp312-none-win_amd64.whl (2.0 MB)\n",
      "     ---------------------------------------- 0.0/2.0 MB ? eta -:--:--\n",
      "     ---------------------------------------- 2.0/2.0 MB 11.1 MB/s eta 0:00:00\n",
      "Collecting pyjwt<2.9.0,>=2.8.0 (from zhipuai)\n",
      "  Downloading https://mirrors.aliyun.com/pypi/packages/2b/4f/e04a8067c7c96c364cef7ef73906504e2f40d690811c021e1a1901473a19/PyJWT-2.8.0-py3-none-any.whl (22 kB)\n",
      "Requirement already satisfied: anyio in c:\\users\\administrator\\appdata\\local\\programs\\python\\python312\\lib\\site-packages (from httpx>=0.23.0->zhipuai) (4.6.2.post1)\n",
      "Requirement already satisfied: certifi in c:\\users\\administrator\\appdata\\local\\programs\\python\\python312\\lib\\site-packages (from httpx>=0.23.0->zhipuai) (2023.11.17)\n",
      "Requirement already satisfied: httpcore==1.* in c:\\users\\administrator\\appdata\\local\\programs\\python\\python312\\lib\\site-packages (from httpx>=0.23.0->zhipuai) (1.0.7)\n",
      "Requirement already satisfied: idna in c:\\users\\administrator\\appdata\\local\\programs\\python\\python312\\lib\\site-packages (from httpx>=0.23.0->zhipuai) (3.4)\n",
      "Requirement already satisfied: sniffio in c:\\users\\administrator\\appdata\\local\\programs\\python\\python312\\lib\\site-packages (from httpx>=0.23.0->zhipuai) (1.3.1)\n",
      "Requirement already satisfied: h11<0.15,>=0.13 in c:\\users\\administrator\\appdata\\local\\programs\\python\\python312\\lib\\site-packages (from httpcore==1.*->httpx>=0.23.0->zhipuai) (0.14.0)\n",
      "Collecting annotated-types>=0.6.0 (from pydantic<3.0,>=1.9.0->zhipuai)\n",
      "  Downloading https://mirrors.aliyun.com/pypi/packages/78/b6/6307fbef88d9b5ee7421e68d78a9f162e0da4900bc5f5793f6d3d0e34fb8/annotated_types-0.7.0-py3-none-any.whl (13 kB)\n",
      "Collecting typing-extensions>=4.12.2 (from pydantic<3.0,>=1.9.0->zhipuai)\n",
      "  Downloading https://mirrors.aliyun.com/pypi/packages/26/9f/ad63fc0248c5379346306f8668cda6e2e2e9c95e01216d2b8ffd9ff037d0/typing_extensions-4.12.2-py3-none-any.whl (37 kB)\n",
      "Installing collected packages: typing-extensions, pyjwt, cachetools, annotated-types, pydantic-core, pydantic, zhipuai\n",
      "  Attempting uninstall: typing-extensions\n",
      "    Found existing installation: typing_extensions 4.8.0\n",
      "    Uninstalling typing_extensions-4.8.0:\n",
      "      Successfully uninstalled typing_extensions-4.8.0\n",
      "Successfully installed annotated-types-0.7.0 cachetools-5.5.0 pydantic-2.10.2 pydantic-core-2.27.1 pyjwt-2.8.0 typing-extensions-4.12.2 zhipuai-2.1.5.20230904\n",
      "Note: you may need to restart the kernel to use updated packages.\n"
     ]
    },
    {
     "name": "stderr",
     "output_type": "stream",
     "text": [
      "DEPRECATION: Loading egg at c:\\users\\administrator\\appdata\\local\\programs\\python\\python312\\lib\\site-packages\\astroid-3.0.1-py3.12.egg is deprecated. pip 25.1 will enforce this behaviour change. A possible replacement is to use pip for package installation. Discussion can be found at https://github.com/pypa/pip/issues/12330\n",
      "DEPRECATION: Loading egg at c:\\users\\administrator\\appdata\\local\\programs\\python\\python312\\lib\\site-packages\\asttokens-2.4.1-py3.12.egg is deprecated. pip 25.1 will enforce this behaviour change. A possible replacement is to use pip for package installation. Discussion can be found at https://github.com/pypa/pip/issues/12330\n",
      "DEPRECATION: Loading egg at c:\\users\\administrator\\appdata\\local\\programs\\python\\python312\\lib\\site-packages\\colorama-0.4.6-py3.12.egg is deprecated. pip 25.1 will enforce this behaviour change. A possible replacement is to use pip for package installation. Discussion can be found at https://github.com/pypa/pip/issues/12330\n",
      "DEPRECATION: Loading egg at c:\\users\\administrator\\appdata\\local\\programs\\python\\python312\\lib\\site-packages\\dill-0.3.7-py3.12.egg is deprecated. pip 25.1 will enforce this behaviour change. A possible replacement is to use pip for package installation. Discussion can be found at https://github.com/pypa/pip/issues/12330\n",
      "DEPRECATION: Loading egg at c:\\users\\administrator\\appdata\\local\\programs\\python\\python312\\lib\\site-packages\\docutils-0.20.1-py3.12.egg is deprecated. pip 25.1 will enforce this behaviour change. A possible replacement is to use pip for package installation. Discussion can be found at https://github.com/pypa/pip/issues/12330\n",
      "DEPRECATION: Loading egg at c:\\users\\administrator\\appdata\\local\\programs\\python\\python312\\lib\\site-packages\\isort-5.12.0-py3.12.egg is deprecated. pip 25.1 will enforce this behaviour change. A possible replacement is to use pip for package installation. Discussion can be found at https://github.com/pypa/pip/issues/12330\n",
      "DEPRECATION: Loading egg at c:\\users\\administrator\\appdata\\local\\programs\\python\\python312\\lib\\site-packages\\jedi-0.19.1-py3.12.egg is deprecated. pip 25.1 will enforce this behaviour change. A possible replacement is to use pip for package installation. Discussion can be found at https://github.com/pypa/pip/issues/12330\n",
      "DEPRECATION: Loading egg at c:\\users\\administrator\\appdata\\local\\programs\\python\\python312\\lib\\site-packages\\mccabe-0.7.0-py3.12.egg is deprecated. pip 25.1 will enforce this behaviour change. A possible replacement is to use pip for package installation. Discussion can be found at https://github.com/pypa/pip/issues/12330\n",
      "DEPRECATION: Loading egg at c:\\users\\administrator\\appdata\\local\\programs\\python\\python312\\lib\\site-packages\\mypy-1.7.0-py3.12.egg is deprecated. pip 25.1 will enforce this behaviour change. A possible replacement is to use pip for package installation. Discussion can be found at https://github.com/pypa/pip/issues/12330\n",
      "DEPRECATION: Loading egg at c:\\users\\administrator\\appdata\\local\\programs\\python\\python312\\lib\\site-packages\\mypy_extensions-1.0.0-py3.12.egg is deprecated. pip 25.1 will enforce this behaviour change. A possible replacement is to use pip for package installation. Discussion can be found at https://github.com/pypa/pip/issues/12330\n",
      "DEPRECATION: Loading egg at c:\\users\\administrator\\appdata\\local\\programs\\python\\python312\\lib\\site-packages\\parso-0.8.3-py3.12.egg is deprecated. pip 25.1 will enforce this behaviour change. A possible replacement is to use pip for package installation. Discussion can be found at https://github.com/pypa/pip/issues/12330\n",
      "DEPRECATION: Loading egg at c:\\users\\administrator\\appdata\\local\\programs\\python\\python312\\lib\\site-packages\\platformdirs-4.0.0-py3.12.egg is deprecated. pip 25.1 will enforce this behaviour change. A possible replacement is to use pip for package installation. Discussion can be found at https://github.com/pypa/pip/issues/12330\n",
      "DEPRECATION: Loading egg at c:\\users\\administrator\\appdata\\local\\programs\\python\\python312\\lib\\site-packages\\pylint-3.0.2-py3.12.egg is deprecated. pip 25.1 will enforce this behaviour change. A possible replacement is to use pip for package installation. Discussion can be found at https://github.com/pypa/pip/issues/12330\n",
      "DEPRECATION: Loading egg at c:\\users\\administrator\\appdata\\local\\programs\\python\\python312\\lib\\site-packages\\pyserial-3.5-py3.12.egg is deprecated. pip 25.1 will enforce this behaviour change. A possible replacement is to use pip for package installation. Discussion can be found at https://github.com/pypa/pip/issues/12330\n",
      "DEPRECATION: Loading egg at c:\\users\\administrator\\appdata\\local\\programs\\python\\python312\\lib\\site-packages\\send2trash-1.8.2-py3.12.egg is deprecated. pip 25.1 will enforce this behaviour change. A possible replacement is to use pip for package installation. Discussion can be found at https://github.com/pypa/pip/issues/12330\n",
      "DEPRECATION: Loading egg at c:\\users\\administrator\\appdata\\local\\programs\\python\\python312\\lib\\site-packages\\six-1.16.0-py3.12.egg is deprecated. pip 25.1 will enforce this behaviour change. A possible replacement is to use pip for package installation. Discussion can be found at https://github.com/pypa/pip/issues/12330\n",
      "DEPRECATION: Loading egg at c:\\users\\administrator\\appdata\\local\\programs\\python\\python312\\lib\\site-packages\\thonny-5.0.0b1.dev0-py3.12.egg is deprecated. pip 25.1 will enforce this behaviour change. A possible replacement is to use pip for package installation. Discussion can be found at https://github.com/pypa/pip/issues/12330\n",
      "DEPRECATION: Loading egg at c:\\users\\administrator\\appdata\\local\\programs\\python\\python312\\lib\\site-packages\\tomlkit-0.12.3-py3.12.egg is deprecated. pip 25.1 will enforce this behaviour change. A possible replacement is to use pip for package installation. Discussion can be found at https://github.com/pypa/pip/issues/12330\n",
      "DEPRECATION: Loading egg at c:\\users\\administrator\\appdata\\local\\programs\\python\\python312\\lib\\site-packages\\typing_extensions-4.8.0-py3.12.egg is deprecated. pip 25.1 will enforce this behaviour change. A possible replacement is to use pip for package installation. Discussion can be found at https://github.com/pypa/pip/issues/12330\n",
      "DEPRECATION: Loading egg at c:\\users\\administrator\\appdata\\local\\programs\\python\\python312\\lib\\site-packages\\wheel-0.41.3-py3.12.egg is deprecated. pip 25.1 will enforce this behaviour change. A possible replacement is to use pip for package installation. Discussion can be found at https://github.com/pypa/pip/issues/12330\n"
     ]
    }
   ],
   "source": [
    "pip install zhipuai\n"
   ]
  },
  {
   "cell_type": "code",
   "execution_count": null,
   "id": "5a9401c3-fd46-4a24-a376-8d022e5794bc",
   "metadata": {},
   "outputs": [],
   "source": []
  },
  {
   "cell_type": "code",
   "execution_count": 2,
   "id": "b6bcd812-1c67-40a7-8a06-a3510542fec0",
   "metadata": {},
   "outputs": [],
   "source": [
    "import os\n",
    "from zhipuai import ZhipuAI\n",
    "import base64# 导入base64库，用于视频文件编码成base64字符串格式\n",
    "\n",
    "os.environ[\"ZHIPUAI_API_KEY\"] = \"034f6dfd050f62d34a0e7abd0be2bf00.1ct0vNIcRYLKpVgb\"#api密钥\n",
    "\n",
    "client = ZhipuAI()"
   ]
  },
  {
   "cell_type": "code",
   "execution_count": 6,
   "id": "2830f433-e346-4947-807d-4c92df482757",
   "metadata": {},
   "outputs": [
    {
     "name": "stdout",
     "output_type": "stream",
     "text": [
      "VideoObject(id='43151732768832584-9202946786782882964', model='cogvideox', video_result=None, task_status='PROCESSING', request_id='-9202946786782882965')\n"
     ]
    }
   ],
   "source": [
    "\n",
    "     \n",
    "\n",
    "client = ZhipuAI(api_key=\"034f6dfd050f62d34a0e7abd0be2bf00.1ct0vNIcRYLKpVgb\")\n",
    "\n",
    "response = client.videos.generations(\n",
    "    model=\"cogvideox\",\n",
    "    prompt=\"最帅男人打最丑男人\"\n",
    ")\n",
    "print(response)\n",
    "     \n"
   ]
  },
  {
   "cell_type": "code",
   "execution_count": 7,
   "id": "f2553979-243b-475c-a76e-4108cd166fd9",
   "metadata": {},
   "outputs": [
    {
     "ename": "NameError",
     "evalue": "name 'VideoObject' is not defined",
     "output_type": "error",
     "traceback": [
      "\u001b[1;31m---------------------------------------------------------------------------\u001b[0m",
      "\u001b[1;31mNameError\u001b[0m                                 Traceback (most recent call last)",
      "Cell \u001b[1;32mIn[7], line 1\u001b[0m\n\u001b[1;32m----> 1\u001b[0m \u001b[43mVideoObject\u001b[49m(\u001b[38;5;28mid\u001b[39m\u001b[38;5;241m=\u001b[39m\u001b[38;5;124m'\u001b[39m\u001b[38;5;124m43151732768832584-9202946786782882964\u001b[39m\u001b[38;5;124m'\u001b[39m, model\u001b[38;5;241m=\u001b[39m\u001b[38;5;124m'\u001b[39m\u001b[38;5;124mcogvideox\u001b[39m\u001b[38;5;124m'\u001b[39m, video_result\u001b[38;5;241m=\u001b[39m\u001b[38;5;28;01mNone\u001b[39;00m, task_status\u001b[38;5;241m=\u001b[39m\u001b[38;5;124m'\u001b[39m\u001b[38;5;124mPROCESSING\u001b[39m\u001b[38;5;124m'\u001b[39m, request_id\u001b[38;5;241m=\u001b[39m\u001b[38;5;124m'\u001b[39m\u001b[38;5;124m-9221302446239581884\u001b[39m\u001b[38;5;124m'\u001b[39m)\n\u001b[0;32m      3\u001b[0m response \u001b[38;5;241m=\u001b[39m client\u001b[38;5;241m.\u001b[39mvideos\u001b[38;5;241m.\u001b[39mretrieve_videos_result(\n\u001b[0;32m      4\u001b[0m     \u001b[38;5;28mid\u001b[39m\u001b[38;5;241m=\u001b[39m\u001b[38;5;124m\"\u001b[39m\u001b[38;5;124m43151732768832584-9202946786782882964\u001b[39m\u001b[38;5;124m\"\u001b[39m\n\u001b[0;32m      5\u001b[0m )\n\u001b[0;32m      7\u001b[0m \u001b[38;5;28mprint\u001b[39m(response)\n",
      "\u001b[1;31mNameError\u001b[0m: name 'VideoObject' is not defined"
     ]
    }
   ],
   "source": [
    "VideoObject(id='43151732768832584-9202946786782882964', model='cogvideox', video_result=None, task_status='PROCESSING', request_id='-9221302446239581884')\n",
    "\n",
    "response = client.videos.retrieve_videos_result(\n",
    "    id=\"43151732768832584-9202946786782882964\"\n",
    ")\n",
    "\n",
    "print(response)\n",
    "     "
   ]
  },
  {
   "cell_type": "code",
   "execution_count": null,
   "id": "34adaf2f-70a7-4081-a0d3-0e2755e380a8",
   "metadata": {},
   "outputs": [],
   "source": []
  }
 ],
 "metadata": {
  "kernelspec": {
   "display_name": "Python 3 (ipykernel)",
   "language": "python",
   "name": "python3"
  },
  "language_info": {
   "codemirror_mode": {
    "name": "ipython",
    "version": 3
   },
   "file_extension": ".py",
   "mimetype": "text/x-python",
   "name": "python",
   "nbconvert_exporter": "python",
   "pygments_lexer": "ipython3",
   "version": "3.12.0"
  }
 },
 "nbformat": 4,
 "nbformat_minor": 5
}
